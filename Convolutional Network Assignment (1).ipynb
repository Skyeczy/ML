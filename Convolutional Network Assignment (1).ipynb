{
 "cells": [
  {
   "cell_type": "markdown",
   "metadata": {},
   "source": [
    "## Neural Network Assignment: Image Classification on MNIST\n",
    "In this assignment, you will design and implement first a multi-layer perceptron model and then a convolutional network model in Pytorch. We will use the CIFAR-10 image dataset. Please complete the rest of the notebook by doing the following tasks.\n",
    "\n",
    "- Build your network (A MLP model and a CONVNET model). There are some requirements on the network structure, please check the corresponding code sections. \n",
    "- Train your network. \n",
    "- Describe your training procedure. Plot the following:\n",
    "    1. Training and validation loss vs. training iterations.\n",
    "    2. Training and validation accuracy vs. training iterations.\n",
    "- Report a final test result on 10000 separate testing examples.\n",
    "- Give detailed explanation of your code\n",
    "\n",
    "You can follow the skeleton code in the notebook to proceed. Look for the ##TODO## mark, that's where you should write your code. \n",
    "\n",
    "Check Pytorch documentation for reference: https://pytorch.org/tutorials/"
   ]
  },
  {
   "cell_type": "markdown",
   "metadata": {},
   "source": [
    "## 1.1 Download data\n",
    "From this website: https://www.cs.toronto.edu/~kriz/cifar.html\n",
    "Download the CIFAR-10 python version, which is 163 MB. \n",
    "Extract the file you downloaded, you should be able to see a folder named cifar-10-batches-py. The data files are inside. ('data_batch_1', 'data_batch_2', etc..). To make things easier put these data files in a new folder called 'cifar-10-data'. The folder 'cifar-10-data' should be in the same directory as your jupyter notebook. Now we load the data into memory. \n",
    "\n",
    "# TODO you should download data"
   ]
  },
  {
   "cell_type": "markdown",
   "metadata": {},
   "source": [
    "## 1.2 Loading Data: you should read the website's data description and have a better understanding of the data (quote):\n",
    "Loaded in this way, each of the batch files contains a dictionary with the following elements:\n",
    "data -- a 10000x3072 numpy array of uint8s. Each row of the array stores a 32x32 colour image. The first 1024 entries contain the red channel values, the next 1024 the green, and the final 1024 the blue. The image is stored in row-major order, so that the first 32 entries of the array are the red channel values of the first row of the image.\n",
    "labels -- a list of 10000 numbers in the range 0-9. The number at index i indicates the label of the ith image in the array data.\n",
    "\n",
    "The dataset contains another file, called batches.meta. It too contains a Python dictionary object. It has the following entries:\n",
    "label_names -- a 10-element list which gives meaningful names to the numeric labels in the labels array described above. For example, label_names[0] == \"airplane\", label_names[1] == \"automobile\", etc.\n"
   ]
  },
  {
   "cell_type": "code",
   "execution_count": 1,
   "metadata": {},
   "outputs": [],
   "source": [
    "import numpy as np\n",
    "import torch\n",
    "import torch.nn as nn\n",
    "import torch.optim as optim\n",
    "import torch.nn.functional as F"
   ]
  },
  {
   "cell_type": "code",
   "execution_count": 2,
   "metadata": {},
   "outputs": [],
   "source": [
    "## follow the instructions on the website\n",
    "def unpickle(file):\n",
    "    ## used to read binary files since our data files are in binary format\n",
    "    import pickle\n",
    "    with open(file, 'rb') as fo:\n",
    "        dict = pickle.load(fo, encoding='bytes')\n",
    "    return dict"
   ]
  },
  {
   "cell_type": "code",
   "execution_count": 3,
   "metadata": {},
   "outputs": [],
   "source": [
    "## loading data from binary data files\n",
    "batch_1_dictionary = unpickle('cifar-10-data/data_batch_1')\n",
    "batch_2_dictionary = unpickle('cifar-10-data/data_batch_2')"
   ]
  },
  {
   "cell_type": "code",
   "execution_count": 4,
   "metadata": {},
   "outputs": [
    {
     "data": {
      "text/plain": [
       "dict_keys([b'batch_label', b'labels', b'data', b'filenames'])"
      ]
     },
     "execution_count": 4,
     "metadata": {},
     "output_type": "execute_result"
    }
   ],
   "source": [
    "batch_1_dictionary.keys()"
   ]
  },
  {
   "cell_type": "code",
   "execution_count": 5,
   "metadata": {},
   "outputs": [],
   "source": [
    "## get training, validation and testing sets\n",
    "## load data as np.arrays and reshape the data into 10000 images, 3 channels 32*32\n",
    "X_train_all = np.array(batch_1_dictionary[b'data']).reshape(10000,3,32,32)\n",
    "y_train_all = np.array(batch_1_dictionary[b'labels'])\n",
    "validation_count = 1000\n",
    "train_count = X_train_all.shape[0]-1000 #take first 9000 train data\n",
    "X_train = X_train_all[:train_count]\n",
    "y_train = y_train_all[:train_count]\n",
    "X_val = X_train_all[train_count:]\n",
    "y_val = y_train_all[train_count:]\n",
    "X_test = np.array(batch_2_dictionary[b'data']).reshape(10000,3,32,32)\n",
    "y_test = np.array(batch_2_dictionary[b'labels'])"
   ]
  },
  {
   "cell_type": "code",
   "execution_count": 6,
   "metadata": {},
   "outputs": [
    {
     "data": {
      "text/plain": [
       "((9000, 3, 32, 32),\n",
       " (9000,),\n",
       " (1000, 3, 32, 32),\n",
       " (1000,),\n",
       " (10000, 3, 32, 32),\n",
       " (10000,))"
      ]
     },
     "execution_count": 6,
     "metadata": {},
     "output_type": "execute_result"
    }
   ],
   "source": [
    "X_train.shape, y_train.shape, X_val.shape, y_val.shape, X_test.shape, y_test.shape"
   ]
  },
  {
   "cell_type": "markdown",
   "metadata": {},
   "source": [
    "## 1.3 Preprocess Data\n",
    "Typically public datasets have some kind of data description or manual that we can use to gain basic understanding of the dataset. You should always try to look for such things and utilize them before you start processing the data. We now want to preprocess the data. \n",
    "\n",
    "We now want to do a data normalization. (Do you still remember why data normalization is important? Refer to Normalizing Input in first week of Improving Deep Neural Networks: Hyperparameter tuning, Regularization and Optimization)\n",
    "You can typically just do the minus by mean and divide by std normalization. But since we are dealing with image data, we can use another type of data normalization: simply divide by 255 to bring all features to the range (0,1).  (Think about why the number 255?) There are different ways to normalize data, feel free to try more options if you are interested. \n",
    "\n",
    "# TODO \n",
    "write your data normalization function here"
   ]
  },
  {
   "cell_type": "code",
   "execution_count": 7,
   "metadata": {},
   "outputs": [],
   "source": [
    "# for RGB data we can simply divide by 255\n",
    "X_train_normalized =  X_train/255.0\n",
    "X_val_normalized =  X_val/255.0\n",
    "X_test_normalized = X_test/255.0"
   ]
  },
  {
   "cell_type": "markdown",
   "metadata": {},
   "source": [
    "## 1.4 Take a look at the data\n",
    "We can plot the image data to have a better understanding of it."
   ]
  },
  {
   "cell_type": "code",
   "execution_count": 8,
   "metadata": {},
   "outputs": [],
   "source": [
    "## class label related\n",
    "CLASSES = ['plane', 'car', 'bird', 'cat', 'deer', 'dog', 'frog', 'horse', 'ship', 'truck']\n",
    "## two helper function\n",
    "def index_to_class_name(y):\n",
    "    return CLASSES[y]\n",
    "def class_name_to_index(class_name):\n",
    "    return CLASSES.index(class_name)"
   ]
  },
  {
   "cell_type": "code",
   "execution_count": 9,
   "metadata": {},
   "outputs": [],
   "source": [
    "import math\n",
    "import matplotlib.pyplot as plt\n",
    "import matplotlib.image as mpimg\n",
    "\"\"\"\n",
    "Plotting utilities, if you want to know how these work exactly, check the reference\n",
    "Or the documentations\n",
    "reference: \n",
    "https://matplotlib.org/users/image_tutorial.html\n",
    "https://stackoverflow.com/questions/46615554/how-to-display-multiple-images-in-one-figure-correctly/46616645\n",
    "\"\"\" \n",
    "\n",
    "def show_single_image(data):\n",
    "    # show a single image\n",
    "    ## note that using matplotlib plotting function, we will have to reshape the data as (1,32,32,3)\n",
    "    img = data.reshape(3,32,32).transpose(1,2,0)\n",
    "    imgplot = plt.imshow(img)\n",
    "def show_multiple_images(data, data_y, n_show=12, columns=4):\n",
    "    ## given an array of data, show all of them as images\n",
    "    fig=plt.figure(figsize=(8, 8))\n",
    "    n = min(data.shape[0], n_show)\n",
    "    rows = math.ceil(n/columns)\n",
    "    for i in range(n):\n",
    "        img = data[i].reshape(3,32,32).transpose(1,2,0)\n",
    "        ax = fig.add_subplot(rows, columns, i+1) ## subplot index starts from 1 not 0\n",
    "        class_name = index_to_class_name(data_y[i])\n",
    "        ax.set_title(str(data_y[i])+\": \"+class_name)\n",
    "        plt.imshow(img)\n",
    "    plt.show()"
   ]
  },
  {
   "cell_type": "code",
   "execution_count": 10,
   "metadata": {},
   "outputs": [
    {
     "data": {
      "image/png": "[encoded data removed]",
      "text/plain": [
       "<Figure size 576x576 with 12 Axes>"
      ]
     },
     "metadata": {
      "needs_background": "light"
     },
     "output_type": "display_data"
    }
   ],
   "source": [
    "show_multiple_images(X_train, y_train)"
   ]
  },
  {
   "cell_type": "markdown",
   "metadata": {},
   "source": [
    "## 2.1 Design Network Structure of a MLP Model\n",
    "Reference: https://pytorch.org/tutorials/beginner/blitz/neural_networks_tutorial.html\n",
    "\n",
    "When we use a multi-layer perceptron (a very basic neural net with fully connected layers), we will need to flatten the data so that the MLP can use it. Each data point in our training data is currently in the form of 1x32x32x3, we want to convert it into 1x3072, so that its shape makes sense to our MLP's input layer. Recall that in our MLP, the input size for the first layer is 3072. There are multiple ways of doing this, we can directly flatten all data points, or we can also do the flattening for each mini-batch. \n",
    "\n",
    "In terms of the loss function, since we are doing the task of multi-class classification, we will use the cross entropy loss. \n",
    "\n",
    "We will use nn.CrossEntropyLoss to compute this, refer to Pytorch doc for details. A short summary is \"this criterion combines nn.LogSoftmax() and nn.NLLLoss() in one single class\" That basically means we don't have to worry about softmax layer and the log part. Make sure you read the Pytorch doc to understand exactly how it works. \n",
    "\n",
    "# TODO\n",
    "write your network structure here\n",
    "\n",
    "1. you should only use linear layers (nn.Linear), should use 2 or more linear layers\n",
    "2. and you should use relu as activation\n",
    "3. after the final layer we DON'T HAVE activation\n",
    "4. you should not use softmax here because pytorch's BCE loss includes softmax\n",
    "5. for hidden layer size, anything between 32-256 is OK"
   ]
  },
  {
   "cell_type": "code",
   "execution_count": 11,
   "metadata": {},
   "outputs": [],
   "source": [
    "import torch\n",
    "import torch.nn as nn\n",
    "import torch.nn.functional as F\n",
    "from torch import Tensor\n",
    "import torch.optim as optim\n",
    "\n",
    "class MLP(nn.Module):\n",
    "    ## a very simple MLP model\n",
    "    def __init__(self, input_dim, output_dim):\n",
    "        super(MLP, self).__init__()\n",
    "        hidden_dim = 256\n",
    "        hidden_dim_2 = 64\n",
    "        self.fc1 = nn.Linear(input_dim, hidden_dim)  \n",
    "        self.fc2 = nn.Linear(hidden_dim, hidden_dim_2)\n",
    "        self.fc3 = nn.Linear(hidden_dim_2, output_dim)  \n",
    "    def forward(self, x):\n",
    "        #x image-->return predicted label\n",
    "        x = F.relu(self.fc1(x))\n",
    "        x =  F.relu(self.fc2(x))\n",
    "        x = self.fc3(x)\n",
    "#         x = F.softmax(x, dim=1)\n",
    "        return x"
   ]
  },
  {
   "cell_type": "code",
   "execution_count": 12,
   "metadata": {},
   "outputs": [],
   "source": [
    "# utility for getting prediction accuracy\n",
    "def get_correct_and_accuracy(y_pred, y):\n",
    "    # y_pred is the nxC prediction scores\n",
    "    # give the number of correct and the accuracy\n",
    "    n = y.shape[0]\n",
    "    # find the prediction class label\n",
    "    _ ,pred_class = y_pred.max(dim=1)\n",
    "    correct = (pred_class == y).sum().item()\n",
    "    return correct ,correct/n"
   ]
  },
  {
   "cell_type": "markdown",
   "metadata": {},
   "source": [
    "## 2.2 Training the MLP model\n",
    "1. We first initialize the neural network, and also the optimizer and the criterion (loss function)\n",
    "2. We then convert data into correct tensor form (note for MLP we need to flatten the image data, from 3x32x32 to 3072)\n",
    "3. We then start doing training iterations\n",
    "\n",
    "# TODO \n",
    "write code here \n",
    "1. init your model\n",
    "2. use Adam optimizer, with lr=1e-3\n",
    "3. use cross entropy criterion\n",
    "4. for X_train, X_val, cast to Tensor and then reshape them to flatten them (change shape to mx3072)\n",
    "5. for y_train, y_val, cast to Tensor and then cast to type long\n",
    "6. simply do 100 iterations"
   ]
  },
  {
   "cell_type": "code",
   "execution_count": 13,
   "metadata": {
    "scrolled": true
   },
   "outputs": [
    {
     "name": "stdout",
     "output_type": "stream",
     "text": [
      "model structure:  MLP(\n",
      "  (fc1): Linear(in_features=3072, out_features=256, bias=True)\n",
      "  (fc2): Linear(in_features=256, out_features=64, bias=True)\n",
      "  (fc3): Linear(in_features=64, out_features=10, bias=True)\n",
      ")\n"
     ]
    }
   ],
   "source": [
    "# init network\n",
    "mlp = MLP(3072, 10)\n",
    "print('model structure: ',mlp)\n",
    "# init optimizer  --Adam\n",
    "optimizer =  optim.Adam(mlp.parameters(), lr=1e-3)\n",
    "# set loss function\n",
    "criterion = nn.CrossEntropyLoss()\n",
    "\n",
    "# prepare for mini-batch stochastic gradient descent\n",
    "n_iteration = 100\n",
    "batch_size = 256\n",
    "n_train_data = X_train_normalized.shape[0]\n",
    "n_batch = int(np.ceil(n_train_data/batch_size))\n",
    "\n",
    "# convert X_train and X_val(numpy array) to tensor and flatten them\n",
    "X_train_tensor = Tensor(X_train_normalized.reshape(X_train.shape[0], -1))\n",
    "X_val_tensor = Tensor(X_val_normalized.reshape(X_val.shape[0], -1))\n",
    "\n",
    "# convert training label to tensor and to type long\n",
    "y_train_tensor = Tensor(y_train).long()\n",
    "y_val_tensor = Tensor(y_val).long()"
   ]
  },
  {
   "cell_type": "markdown",
   "metadata": {},
   "source": [
    "# TODO\n",
    "1. Here you will have to write training code \n",
    "2. As well as code to log the training process for later plotting\n",
    "3. After each iteration through training data, you should use that print function to log you current training process"
   ]
  },
  {
   "cell_type": "code",
   "execution_count": 14,
   "metadata": {
    "scrolled": false
   },
   "outputs": [
    {
     "name": "stdout",
     "output_type": "stream",
     "text": [
      "Iter 0 ,Train loss: 2.164, Train acc: 0.192, Val loss: 2.036, Val acc: 0.220\n",
      "Iter 1 ,Train loss: 1.958, Train acc: 0.292, Val loss: 1.912, Val acc: 0.302\n",
      "Iter 2 ,Train loss: 1.872, Train acc: 0.333, Val loss: 1.861, Val acc: 0.346\n",
      "Iter 3 ,Train loss: 1.815, Train acc: 0.350, Val loss: 1.831, Val acc: 0.351\n",
      "Iter 4 ,Train loss: 1.772, Train acc: 0.370, Val loss: 1.787, Val acc: 0.378\n",
      "Iter 5 ,Train loss: 1.738, Train acc: 0.380, Val loss: 1.761, Val acc: 0.380\n",
      "Iter 6 ,Train loss: 1.709, Train acc: 0.391, Val loss: 1.727, Val acc: 0.403\n",
      "Iter 7 ,Train loss: 1.677, Train acc: 0.400, Val loss: 1.700, Val acc: 0.413\n",
      "Iter 8 ,Train loss: 1.650, Train acc: 0.412, Val loss: 1.682, Val acc: 0.418\n",
      "Iter 9 ,Train loss: 1.618, Train acc: 0.423, Val loss: 1.667, Val acc: 0.416\n",
      "Iter 10 ,Train loss: 1.595, Train acc: 0.432, Val loss: 1.651, Val acc: 0.416\n",
      "Iter 11 ,Train loss: 1.572, Train acc: 0.442, Val loss: 1.641, Val acc: 0.422\n",
      "Iter 12 ,Train loss: 1.549, Train acc: 0.448, Val loss: 1.637, Val acc: 0.426\n",
      "Iter 13 ,Train loss: 1.528, Train acc: 0.459, Val loss: 1.634, Val acc: 0.422\n",
      "Iter 14 ,Train loss: 1.506, Train acc: 0.462, Val loss: 1.623, Val acc: 0.422\n",
      "Iter 15 ,Train loss: 1.487, Train acc: 0.470, Val loss: 1.636, Val acc: 0.415\n",
      "Iter 16 ,Train loss: 1.470, Train acc: 0.476, Val loss: 1.639, Val acc: 0.414\n",
      "Iter 17 ,Train loss: 1.456, Train acc: 0.479, Val loss: 1.630, Val acc: 0.423\n",
      "Iter 18 ,Train loss: 1.440, Train acc: 0.483, Val loss: 1.648, Val acc: 0.411\n",
      "Iter 19 ,Train loss: 1.426, Train acc: 0.490, Val loss: 1.606, Val acc: 0.442\n",
      "Iter 20 ,Train loss: 1.412, Train acc: 0.495, Val loss: 1.589, Val acc: 0.439\n",
      "Iter 21 ,Train loss: 1.396, Train acc: 0.499, Val loss: 1.587, Val acc: 0.442\n",
      "Iter 22 ,Train loss: 1.376, Train acc: 0.505, Val loss: 1.573, Val acc: 0.448\n",
      "Iter 23 ,Train loss: 1.358, Train acc: 0.513, Val loss: 1.580, Val acc: 0.449\n",
      "Iter 24 ,Train loss: 1.339, Train acc: 0.520, Val loss: 1.593, Val acc: 0.447\n",
      "Iter 25 ,Train loss: 1.329, Train acc: 0.524, Val loss: 1.595, Val acc: 0.439\n",
      "Iter 26 ,Train loss: 1.319, Train acc: 0.525, Val loss: 1.595, Val acc: 0.436\n",
      "Iter 27 ,Train loss: 1.304, Train acc: 0.532, Val loss: 1.593, Val acc: 0.437\n",
      "Iter 28 ,Train loss: 1.293, Train acc: 0.535, Val loss: 1.608, Val acc: 0.435\n",
      "Iter 29 ,Train loss: 1.281, Train acc: 0.540, Val loss: 1.614, Val acc: 0.430\n",
      "Iter 30 ,Train loss: 1.279, Train acc: 0.542, Val loss: 1.611, Val acc: 0.445\n",
      "Iter 31 ,Train loss: 1.283, Train acc: 0.539, Val loss: 1.625, Val acc: 0.425\n",
      "Iter 32 ,Train loss: 1.280, Train acc: 0.540, Val loss: 1.637, Val acc: 0.432\n",
      "Iter 33 ,Train loss: 1.253, Train acc: 0.547, Val loss: 1.644, Val acc: 0.438\n",
      "Iter 34 ,Train loss: 1.230, Train acc: 0.557, Val loss: 1.638, Val acc: 0.441\n",
      "Iter 35 ,Train loss: 1.210, Train acc: 0.565, Val loss: 1.631, Val acc: 0.442\n",
      "Iter 36 ,Train loss: 1.190, Train acc: 0.571, Val loss: 1.628, Val acc: 0.442\n",
      "Iter 37 ,Train loss: 1.176, Train acc: 0.578, Val loss: 1.642, Val acc: 0.441\n",
      "Iter 38 ,Train loss: 1.164, Train acc: 0.585, Val loss: 1.672, Val acc: 0.434\n",
      "Iter 39 ,Train loss: 1.156, Train acc: 0.584, Val loss: 1.679, Val acc: 0.439\n",
      "Iter 40 ,Train loss: 1.139, Train acc: 0.593, Val loss: 1.707, Val acc: 0.416\n",
      "Iter 41 ,Train loss: 1.127, Train acc: 0.597, Val loss: 1.710, Val acc: 0.415\n",
      "Iter 42 ,Train loss: 1.121, Train acc: 0.599, Val loss: 1.707, Val acc: 0.425\n",
      "Iter 43 ,Train loss: 1.114, Train acc: 0.601, Val loss: 1.719, Val acc: 0.423\n",
      "Iter 44 ,Train loss: 1.101, Train acc: 0.604, Val loss: 1.725, Val acc: 0.435\n",
      "Iter 45 ,Train loss: 1.087, Train acc: 0.609, Val loss: 1.719, Val acc: 0.439\n",
      "Iter 46 ,Train loss: 1.074, Train acc: 0.614, Val loss: 1.733, Val acc: 0.444\n",
      "Iter 47 ,Train loss: 1.075, Train acc: 0.614, Val loss: 1.765, Val acc: 0.428\n",
      "Iter 48 ,Train loss: 1.068, Train acc: 0.616, Val loss: 1.712, Val acc: 0.450\n",
      "Iter 49 ,Train loss: 1.055, Train acc: 0.620, Val loss: 1.702, Val acc: 0.450\n",
      "Iter 50 ,Train loss: 1.047, Train acc: 0.624, Val loss: 1.683, Val acc: 0.448\n",
      "Iter 51 ,Train loss: 1.023, Train acc: 0.634, Val loss: 1.701, Val acc: 0.446\n",
      "Iter 52 ,Train loss: 1.031, Train acc: 0.627, Val loss: 1.699, Val acc: 0.436\n",
      "Iter 53 ,Train loss: 1.029, Train acc: 0.638, Val loss: 1.689, Val acc: 0.451\n",
      "Iter 54 ,Train loss: 1.036, Train acc: 0.631, Val loss: 1.736, Val acc: 0.461\n",
      "Iter 55 ,Train loss: 1.002, Train acc: 0.649, Val loss: 1.717, Val acc: 0.451\n",
      "Iter 56 ,Train loss: 0.985, Train acc: 0.652, Val loss: 1.715, Val acc: 0.455\n",
      "Iter 57 ,Train loss: 0.974, Train acc: 0.659, Val loss: 1.720, Val acc: 0.460\n",
      "Iter 58 ,Train loss: 0.971, Train acc: 0.660, Val loss: 1.690, Val acc: 0.469\n",
      "Iter 59 ,Train loss: 0.995, Train acc: 0.650, Val loss: 1.690, Val acc: 0.467\n",
      "Iter 60 ,Train loss: 0.968, Train acc: 0.663, Val loss: 1.700, Val acc: 0.458\n",
      "Iter 61 ,Train loss: 0.926, Train acc: 0.675, Val loss: 1.712, Val acc: 0.452\n",
      "Iter 62 ,Train loss: 0.902, Train acc: 0.681, Val loss: 1.712, Val acc: 0.460\n",
      "Iter 63 ,Train loss: 0.885, Train acc: 0.688, Val loss: 1.722, Val acc: 0.469\n",
      "Iter 64 ,Train loss: 0.877, Train acc: 0.693, Val loss: 1.740, Val acc: 0.452\n",
      "Iter 65 ,Train loss: 0.873, Train acc: 0.692, Val loss: 1.770, Val acc: 0.455\n",
      "Iter 66 ,Train loss: 0.891, Train acc: 0.684, Val loss: 1.854, Val acc: 0.425\n",
      "Iter 67 ,Train loss: 0.927, Train acc: 0.677, Val loss: 1.898, Val acc: 0.422\n",
      "Iter 68 ,Train loss: 0.957, Train acc: 0.659, Val loss: 1.917, Val acc: 0.422\n",
      "Iter 69 ,Train loss: 0.949, Train acc: 0.662, Val loss: 1.823, Val acc: 0.430\n",
      "Iter 70 ,Train loss: 0.869, Train acc: 0.697, Val loss: 1.862, Val acc: 0.438\n",
      "Iter 71 ,Train loss: 0.850, Train acc: 0.704, Val loss: 1.866, Val acc: 0.429\n",
      "Iter 72 ,Train loss: 0.828, Train acc: 0.709, Val loss: 1.870, Val acc: 0.431\n",
      "Iter 73 ,Train loss: 0.811, Train acc: 0.721, Val loss: 1.891, Val acc: 0.431\n",
      "Iter 74 ,Train loss: 0.809, Train acc: 0.721, Val loss: 1.907, Val acc: 0.436\n",
      "Iter 75 ,Train loss: 0.816, Train acc: 0.717, Val loss: 1.934, Val acc: 0.427\n",
      "Iter 76 ,Train loss: 0.821, Train acc: 0.711, Val loss: 2.001, Val acc: 0.423\n",
      "Iter 77 ,Train loss: 0.826, Train acc: 0.708, Val loss: 1.976, Val acc: 0.425\n",
      "Iter 78 ,Train loss: 0.836, Train acc: 0.705, Val loss: 1.930, Val acc: 0.440\n",
      "Iter 79 ,Train loss: 0.833, Train acc: 0.707, Val loss: 1.889, Val acc: 0.451\n",
      "Iter 80 ,Train loss: 0.846, Train acc: 0.702, Val loss: 1.914, Val acc: 0.447\n",
      "Iter 81 ,Train loss: 0.867, Train acc: 0.691, Val loss: 1.950, Val acc: 0.437\n",
      "Iter 82 ,Train loss: 0.898, Train acc: 0.673, Val loss: 2.095, Val acc: 0.406\n",
      "Iter 83 ,Train loss: 0.898, Train acc: 0.673, Val loss: 1.974, Val acc: 0.434\n",
      "Iter 84 ,Train loss: 0.816, Train acc: 0.705, Val loss: 1.929, Val acc: 0.435\n",
      "Iter 85 ,Train loss: 0.781, Train acc: 0.721, Val loss: 1.902, Val acc: 0.451\n",
      "Iter 86 ,Train loss: 0.775, Train acc: 0.723, Val loss: 1.928, Val acc: 0.448\n",
      "Iter 87 ,Train loss: 0.765, Train acc: 0.728, Val loss: 1.918, Val acc: 0.447\n",
      "Iter 88 ,Train loss: 0.763, Train acc: 0.729, Val loss: 1.907, Val acc: 0.453\n",
      "Iter 89 ,Train loss: 0.763, Train acc: 0.728, Val loss: 1.907, Val acc: 0.441\n",
      "Iter 90 ,Train loss: 0.769, Train acc: 0.725, Val loss: 1.920, Val acc: 0.444\n",
      "Iter 91 ,Train loss: 0.788, Train acc: 0.721, Val loss: 2.002, Val acc: 0.426\n",
      "Iter 92 ,Train loss: 0.867, Train acc: 0.685, Val loss: 2.107, Val acc: 0.428\n",
      "Iter 93 ,Train loss: 0.864, Train acc: 0.688, Val loss: 1.997, Val acc: 0.433\n",
      "Iter 94 ,Train loss: 0.785, Train acc: 0.720, Val loss: 2.008, Val acc: 0.444\n",
      "Iter 95 ,Train loss: 0.764, Train acc: 0.724, Val loss: 2.048, Val acc: 0.425\n",
      "Iter 96 ,Train loss: 0.765, Train acc: 0.728, Val loss: 2.043, Val acc: 0.423\n",
      "Iter 97 ,Train loss: 0.787, Train acc: 0.715, Val loss: 1.974, Val acc: 0.434\n",
      "Iter 98 ,Train loss: 0.755, Train acc: 0.727, Val loss: 1.936, Val acc: 0.450\n",
      "Iter 99 ,Train loss: 0.736, Train acc: 0.737, Val loss: 1.990, Val acc: 0.453\n"
     ]
    }
   ],
   "source": [
    "## start \n",
    "train_loss_list = np.zeros(n_iteration)\n",
    "train_accu_list = np.zeros(n_iteration)\n",
    "val_loss_list = np.zeros(n_iteration)\n",
    "val_accu_list = np.zeros(n_iteration)\n",
    "for i in range(n_iteration):\n",
    "    running_loss = 0\n",
    "    correct_train = 0 \n",
    "    # first get a minibatch of data\n",
    "    for j in range(n_batch):\n",
    "        batch_start_index = j*batch_size\n",
    "        # get data batch from the normalized data\n",
    "        X_batch = X_train_tensor[batch_start_index:batch_start_index+batch_size]\n",
    "        # get ground truth label y\n",
    "        y_batch = y_train_tensor[batch_start_index:batch_start_index+batch_size]\n",
    "        \n",
    "        # do prediction\n",
    "        pred = mlp(X_batch)\n",
    "        loss = criterion(pred, y_batch)\n",
    "        running_loss += loss.item()\n",
    "        correct_train += get_correct_and_accuracy(pred, y_batch)[0]\n",
    "        # update \n",
    "        optimizer.zero_grad()  \n",
    "        loss.backward()\n",
    "        optimizer.step()  \n",
    "    ave_train_loss = running_loss / n_batch\n",
    "    pred_val = mlp(X_val_tensor)\n",
    "    loss_val = criterion(pred_val, y_val_tensor)\n",
    "    val_loss = loss_val.item()\n",
    "    train_acc = correct_train/float(X_train.shape[0])\n",
    "    val_correct, val_acc = get_correct_and_accuracy(pred_val,y_val_tensor)\n",
    "    print(\"Iter %d ,Train loss: %.3f, Train acc: %.3f, Val loss: %.3f, Val acc: %.3f\" \n",
    "          %(i ,ave_train_loss, train_acc, val_loss, val_acc)) \n",
    "    \n",
    "    ## add to the logs so that we can use them later for plotting\n",
    "    train_loss_list[i] = ave_train_loss\n",
    "    train_accu_list[i] = train_acc\n",
    "    val_loss_list[i] = val_loss\n",
    "    val_accu_list[i] = val_acc\n",
    "    # Iter 99 ,Train loss: 1.347, Train acc: 0.527, Val loss: 1.768, Val acc: 0.404"
   ]
  },
  {
   "cell_type": "markdown",
   "metadata": {},
   "source": [
    "## 2.3 Plotting training process\n",
    "We want to first plot training loss versus validation loss, then plot training accuracy, validation accuracy.\n",
    "\n",
    "# TODO\n",
    "run the plotting functions"
   ]
  },
  {
   "cell_type": "code",
   "execution_count": 15,
   "metadata": {},
   "outputs": [
    {
     "data": {
      "image/png": "[encoded data removed]",
      "text/plain": [
       "<Figure size 432x288 with 1 Axes>"
      ]
     },
     "metadata": {
      "needs_background": "light"
     },
     "output_type": "display_data"
    }
   ],
   "source": [
    "## plot training loss versus validation loss\n",
    "x_axis = np.arange(n_iteration)\n",
    "plt.plot(x_axis, train_loss_list, label='train loss')\n",
    "plt.plot(x_axis, val_loss_list, label='val loss')\n",
    "plt.legend()\n",
    "plt.show()"
   ]
  },
  {
   "cell_type": "code",
   "execution_count": 16,
   "metadata": {},
   "outputs": [
    {
     "data": {
      "image/png": "[encoded data removed]",
      "text/plain": [
       "<Figure size 432x288 with 1 Axes>"
      ]
     },
     "metadata": {
      "needs_background": "light"
     },
     "output_type": "display_data"
    }
   ],
   "source": [
    "## plot training accuracy versus validation accuracy\n",
    "plt.plot(x_axis, train_accu_list, label='train acc')\n",
    "plt.plot(x_axis, val_accu_list, label='val acc')\n",
    "plt.legend()\n",
    "plt.show()"
   ]
  },
  {
   "cell_type": "markdown",
   "metadata": {},
   "source": [
    "## 2.4 Report testing performance\n",
    "We want run the trained model on test data to see how well it does\n",
    "\n",
    "# TODO\n",
    "write code here to report test accuracy on the 10000 test data"
   ]
  },
  {
   "cell_type": "code",
   "execution_count": 17,
   "metadata": {},
   "outputs": [
    {
     "name": "stdout",
     "output_type": "stream",
     "text": [
      "Test accuracy:  0.4173\n"
     ]
    }
   ],
   "source": [
    "## test performance on the test set and report final performance\n",
    "# make them into tensor and flat them \n",
    "# input test batch and get the predicted label, \n",
    "# and compare the accuracy using the helper functions\n",
    "# Test accuracy:  0.3903\n",
    "\n",
    "# convert X_test to tensor and flatten them\n",
    "X_test_tensor = Tensor(X_test_normalized.reshape(X_test.shape[0], -1))\n",
    "\n",
    "# convert test label to tensor and to type long\n",
    "y_test_tensor = Tensor(y_test).long()\n",
    "\n",
    "test_pred = mlp(X_test_tensor)\n",
    "test_acc = get_correct_and_accuracy(test_pred,y_test_tensor)[1]\n",
    "\n",
    "print(\"Test accuracy: \", test_acc)"
   ]
  },
  {
   "cell_type": "markdown",
   "metadata": {},
   "source": [
    "## 3.1 Now we design a convolutional network\n",
    "Check pytorch documentation for usage of each layer\n",
    "\n",
    "# TODO\n",
    "write network structure here\n",
    "you should do:\n",
    "1. use at least 2 conv layer\n",
    "2. at least 1 maxpool layer\n",
    "3. at least 2 linear layer at the end"
   ]
  },
  {
   "cell_type": "code",
   "execution_count": 18,
   "metadata": {},
   "outputs": [],
   "source": [
    "#nn.conv2d\n",
    "# in channels = 3;out channel = num of filter = 5/6\n",
    "# kernel size =3 if filter 3*3 \n",
    "class ConvNet(nn.Module):\n",
    "    def __init__(self):\n",
    "        super(ConvNet, self).__init__()\n",
    "        #initialize layers\n",
    "        self.conv1 = nn.Conv2d(in_channels=3, out_channels=6, kernel_size=(5, 5))\n",
    "        self.pool = nn.MaxPool2d(kernel_size=2,stride=2)\n",
    "        self.conv2 = nn.Conv2d(in_channels=6, out_channels=16, kernel_size=(5, 5))\n",
    "        self.fc1 = nn.Linear(16 * 5 * 5, 120)\n",
    "        self.fc2 = nn.Linear(120, 84)\n",
    "        self.fc3 = nn.Linear(84, 10)\n",
    "    def forward(self, x):\n",
    "        #return predicted label\n",
    "        x = self.pool(F.relu(self.conv1(x)))\n",
    "        x = self.pool(F.relu(self.conv2(x)))\n",
    "        x = x.view(-1, 16 * 5 * 5)\n",
    "        x = F.relu(self.fc1(x))\n",
    "        x = F.relu(self.fc2(x))\n",
    "        x = self.fc3(x)\n",
    "        return x"
   ]
  },
  {
   "cell_type": "markdown",
   "metadata": {},
   "source": [
    "## 3.2 Training the Convolutional Net model\n",
    "1. We first initialize the neural network, and also the optimizer and the criterion (loss function)\n",
    "2. We then convert data into correct tensor form\n",
    "3. We then start doing training iterations\n",
    "\n",
    "# TODO \n",
    "write code here \n",
    "1. init your model\n",
    "2. use Adam optimizer, with lr=1e-3\n",
    "3. use cross entropy criterion\n",
    "4. for X_train, X_val, cast to Tensor \n",
    "5. for y_train, y_val, cast to Tensor and then cast to type long\n",
    "6. simply do 40 iterations"
   ]
  },
  {
   "cell_type": "code",
   "execution_count": 19,
   "metadata": {},
   "outputs": [
    {
     "name": "stdout",
     "output_type": "stream",
     "text": [
      "model structure:  ConvNet(\n",
      "  (conv1): Conv2d(3, 6, kernel_size=(5, 5), stride=(1, 1))\n",
      "  (pool): MaxPool2d(kernel_size=2, stride=2, padding=0, dilation=1, ceil_mode=False)\n",
      "  (conv2): Conv2d(6, 16, kernel_size=(5, 5), stride=(1, 1))\n",
      "  (fc1): Linear(in_features=400, out_features=120, bias=True)\n",
      "  (fc2): Linear(in_features=120, out_features=84, bias=True)\n",
      "  (fc3): Linear(in_features=84, out_features=10, bias=True)\n",
      ")\n",
      "X train tensor shape: torch.Size([9000, 3, 32, 32])\n"
     ]
    }
   ],
   "source": [
    "# init network\n",
    "conv_net = ConvNet()\n",
    "print('model structure: ', conv_net)\n",
    "# init optimizer\n",
    "optimizer =  optim.Adam(conv_net.parameters(), lr=1e-3)\n",
    "# set loss function\n",
    "criterion = nn.CrossEntropyLoss()\n",
    "\n",
    "\n",
    "# prepare for mini-batch stochastic gradient descent\n",
    "n_iteration = 40\n",
    "batch_size = 256\n",
    "n_data = X_train_normalized.shape[0]\n",
    "n_batch = int(np.ceil(n_data/batch_size))\n",
    "\n",
    "# convert X_train and X_val to tensor and flatten them\n",
    "X_train_tensor = Tensor(X_train_normalized)\n",
    "X_val_tensor = Tensor(X_val_normalized)\n",
    "\n",
    "# convert training label to tensor and to type long\n",
    "y_train_tensor = Tensor(y_train).long()\n",
    "y_val_tensor = Tensor(y_val).long()\n",
    "\n",
    "print('X train tensor shape:', X_train_tensor.shape)"
   ]
  },
  {
   "cell_type": "markdown",
   "metadata": {},
   "source": [
    "# TODO\n",
    "1. Here you will have to write training code \n",
    "2. As well as code to log the training process for later plotting\n",
    "3. After each iteration through training data, you should use that print function to log you current training process"
   ]
  },
  {
   "cell_type": "code",
   "execution_count": 20,
   "metadata": {
    "scrolled": true
   },
   "outputs": [
    {
     "name": "stdout",
     "output_type": "stream",
     "text": [
      "Iter 0 ,Train loss: 2.249, Train acc: 0.168, Val loss: 2.074, Val acc: 0.236\n",
      "Iter 1 ,Train loss: 2.037, Train acc: 0.242, Val loss: 1.966, Val acc: 0.265\n",
      "Iter 2 ,Train loss: 1.900, Train acc: 0.299, Val loss: 1.852, Val acc: 0.311\n",
      "Iter 3 ,Train loss: 1.809, Train acc: 0.338, Val loss: 1.816, Val acc: 0.331\n",
      "Iter 4 ,Train loss: 1.749, Train acc: 0.358, Val loss: 1.771, Val acc: 0.336\n",
      "Iter 5 ,Train loss: 1.701, Train acc: 0.373, Val loss: 1.732, Val acc: 0.358\n",
      "Iter 6 ,Train loss: 1.662, Train acc: 0.388, Val loss: 1.685, Val acc: 0.380\n",
      "Iter 7 ,Train loss: 1.630, Train acc: 0.406, Val loss: 1.653, Val acc: 0.394\n",
      "Iter 8 ,Train loss: 1.602, Train acc: 0.419, Val loss: 1.629, Val acc: 0.391\n",
      "Iter 9 ,Train loss: 1.575, Train acc: 0.427, Val loss: 1.607, Val acc: 0.403\n",
      "Iter 10 ,Train loss: 1.552, Train acc: 0.433, Val loss: 1.584, Val acc: 0.422\n",
      "Iter 11 ,Train loss: 1.530, Train acc: 0.441, Val loss: 1.573, Val acc: 0.421\n",
      "Iter 12 ,Train loss: 1.508, Train acc: 0.451, Val loss: 1.553, Val acc: 0.434\n",
      "Iter 13 ,Train loss: 1.489, Train acc: 0.458, Val loss: 1.546, Val acc: 0.435\n",
      "Iter 14 ,Train loss: 1.470, Train acc: 0.464, Val loss: 1.535, Val acc: 0.451\n",
      "Iter 15 ,Train loss: 1.452, Train acc: 0.472, Val loss: 1.531, Val acc: 0.456\n",
      "Iter 16 ,Train loss: 1.435, Train acc: 0.476, Val loss: 1.518, Val acc: 0.462\n",
      "Iter 17 ,Train loss: 1.418, Train acc: 0.482, Val loss: 1.512, Val acc: 0.458\n",
      "Iter 18 ,Train loss: 1.401, Train acc: 0.487, Val loss: 1.503, Val acc: 0.462\n",
      "Iter 19 ,Train loss: 1.385, Train acc: 0.492, Val loss: 1.489, Val acc: 0.462\n",
      "Iter 20 ,Train loss: 1.369, Train acc: 0.499, Val loss: 1.478, Val acc: 0.466\n",
      "Iter 21 ,Train loss: 1.352, Train acc: 0.505, Val loss: 1.472, Val acc: 0.470\n",
      "Iter 22 ,Train loss: 1.337, Train acc: 0.511, Val loss: 1.467, Val acc: 0.469\n",
      "Iter 23 ,Train loss: 1.321, Train acc: 0.519, Val loss: 1.457, Val acc: 0.476\n",
      "Iter 24 ,Train loss: 1.308, Train acc: 0.526, Val loss: 1.451, Val acc: 0.474\n",
      "Iter 25 ,Train loss: 1.294, Train acc: 0.529, Val loss: 1.446, Val acc: 0.473\n",
      "Iter 26 ,Train loss: 1.281, Train acc: 0.536, Val loss: 1.433, Val acc: 0.479\n",
      "Iter 27 ,Train loss: 1.267, Train acc: 0.542, Val loss: 1.425, Val acc: 0.484\n",
      "Iter 28 ,Train loss: 1.261, Train acc: 0.547, Val loss: 1.411, Val acc: 0.508\n",
      "Iter 29 ,Train loss: 1.249, Train acc: 0.551, Val loss: 1.458, Val acc: 0.493\n",
      "Iter 30 ,Train loss: 1.247, Train acc: 0.556, Val loss: 1.426, Val acc: 0.500\n",
      "Iter 31 ,Train loss: 1.249, Train acc: 0.548, Val loss: 1.385, Val acc: 0.505\n",
      "Iter 32 ,Train loss: 1.207, Train acc: 0.566, Val loss: 1.384, Val acc: 0.506\n",
      "Iter 33 ,Train loss: 1.191, Train acc: 0.572, Val loss: 1.387, Val acc: 0.507\n",
      "Iter 34 ,Train loss: 1.179, Train acc: 0.572, Val loss: 1.394, Val acc: 0.495\n",
      "Iter 35 ,Train loss: 1.165, Train acc: 0.579, Val loss: 1.405, Val acc: 0.495\n",
      "Iter 36 ,Train loss: 1.150, Train acc: 0.585, Val loss: 1.410, Val acc: 0.491\n",
      "Iter 37 ,Train loss: 1.139, Train acc: 0.590, Val loss: 1.412, Val acc: 0.495\n",
      "Iter 38 ,Train loss: 1.128, Train acc: 0.594, Val loss: 1.404, Val acc: 0.498\n",
      "Iter 39 ,Train loss: 1.118, Train acc: 0.599, Val loss: 1.399, Val acc: 0.496\n"
     ]
    }
   ],
   "source": [
    "## start \n",
    "train_loss_list = np.zeros(n_iteration)\n",
    "train_accu_list = np.zeros(n_iteration)\n",
    "val_loss_list = np.zeros(n_iteration)\n",
    "val_accu_list = np.zeros(n_iteration)\n",
    "for i in range(n_iteration):\n",
    "    # first get a minibatch of data\n",
    "    running_loss = 0\n",
    "    correct_train = 0 \n",
    "    for j in range(n_batch):\n",
    "        batch_start_index = j*batch_size\n",
    "        # get data batch from the normalized data\n",
    "        X_batch = X_train_tensor[batch_start_index:batch_start_index+batch_size]\n",
    "        # get ground truth label y\n",
    "        y_batch = y_train_tensor[batch_start_index:batch_start_index+batch_size]\n",
    "        \n",
    "        \n",
    "    ## calculate the loss\n",
    "    ## back_pro\n",
    "    ## update parameters ---pytorch \n",
    "            # do prediction\n",
    "        pred = conv_net(X_batch)\n",
    "        loss = criterion(pred, y_batch)\n",
    "        running_loss += loss.item()\n",
    "        correct_train += get_correct_and_accuracy(pred, y_batch)[0]\n",
    "        # update \n",
    "        optimizer.zero_grad()  \n",
    "        loss.backward()\n",
    "        optimizer.step()  \n",
    "         \n",
    "    ave_train_loss = running_loss / n_batch\n",
    "    pred_val = conv_net(X_val_tensor)\n",
    "    loss_val = criterion(pred_val, y_val_tensor)\n",
    "    val_loss = loss_val.item()\n",
    "    train_acc = correct_train/float(X_train.shape[0])\n",
    "    val_correct, val_acc = get_correct_and_accuracy(pred_val,y_val_tensor)\n",
    "    \n",
    "    print(\"Iter %d ,Train loss: %.3f, Train acc: %.3f, Val loss: %.3f, Val acc: %.3f\" \n",
    "          %(i ,ave_train_loss, train_acc, val_loss, val_acc)) \n",
    "    ## add to the logs so that we can use them later for plotting\n",
    "    train_loss_list[i] = ave_train_loss\n",
    "    train_accu_list[i] = train_acc\n",
    "    val_loss_list[i] = val_loss\n",
    "    val_accu_list[i] = val_acc\n",
    "    #Iter 39 ,Train loss: 0.633, Train acc: 0.770, Val loss: 1.818, Val acc: 0.501"
   ]
  },
  {
   "cell_type": "markdown",
   "metadata": {},
   "source": [
    "## 3.3 Plotting training process\n",
    "We want to first plot training loss versus validation loss, then plot training accuracy, validation accuracy.\n",
    "\n",
    "# TODO \n",
    "run the code here for plotting"
   ]
  },
  {
   "cell_type": "code",
   "execution_count": 21,
   "metadata": {},
   "outputs": [
    {
     "data": {
      "image/png": "[encoded data removed]",
      "text/plain": [
       "<Figure size 432x288 with 1 Axes>"
      ]
     },
     "metadata": {
      "needs_background": "light"
     },
     "output_type": "display_data"
    }
   ],
   "source": [
    "## plot training loss versus validation loss\n",
    "x_axis = np.arange(n_iteration)\n",
    "plt.plot(x_axis, train_loss_list, label='train loss')\n",
    "plt.plot(x_axis, val_loss_list, label='val loss')\n",
    "plt.legend()\n",
    "plt.show()"
   ]
  },
  {
   "cell_type": "code",
   "execution_count": 22,
   "metadata": {},
   "outputs": [
    {
     "data": {
      "image/png": "[encoded data removed]",
      "text/plain": [
       "<Figure size 432x288 with 1 Axes>"
      ]
     },
     "metadata": {
      "needs_background": "light"
     },
     "output_type": "display_data"
    }
   ],
   "source": [
    "## plot training accuracy versus validation accuracy\n",
    "plt.plot(x_axis, train_accu_list, label='train acc')\n",
    "plt.plot(x_axis, val_accu_list, label='val acc')\n",
    "plt.legend()\n",
    "plt.show()"
   ]
  },
  {
   "cell_type": "markdown",
   "metadata": {},
   "source": [
    "## 3.4 Report testing performance\n",
    "We want run the trained model on test data to see how well it does\n",
    "\n",
    "# TODO\n",
    "write code here to report test accuracy on the 10000 test data"
   ]
  },
  {
   "cell_type": "code",
   "execution_count": 23,
   "metadata": {},
   "outputs": [
    {
     "name": "stdout",
     "output_type": "stream",
     "text": [
      "Test accuracy:  0.5078\n"
     ]
    }
   ],
   "source": [
    "## test performance on the test set and report final performance\n",
    "# input test batch-->get predicted label\n",
    "# convert X_test to tensor and flatten them\n",
    "X_test_tensor = Tensor(X_test_normalized)\n",
    "\n",
    "# convert test label to tensor and to type long\n",
    "y_test_tensor = Tensor(y_test).long()\n",
    "\n",
    "test_pred = conv_net(X_test_tensor)\n",
    "test_acc = get_correct_and_accuracy(test_pred,y_test_tensor)[1]\n",
    "\n",
    "\n",
    "print(\"Test accuracy: \", test_acc)"
   ]
  },
  {
   "cell_type": "markdown",
   "metadata": {},
   "source": [
    "## Other things you can do to improve model performance: \n",
    "1. Add in regularization, you can use l2, Dropout\n",
    "2. Use a better data normalization method\n",
    "3. Train on more data\n",
    "4. Do data augmentation to get more data\n",
    "5. Use a more powerful network structure\n",
    "6. Do transfer learning"
   ]
  }
 ],
 "metadata": {
  "kernelspec": {
   "display_name": "Python [conda env:ml] *",
   "language": "python",
   "name": "conda-env-ml-py"
  },
  "language_info": {
   "codemirror_mode": {
    "name": "ipython",
    "version": 3
   },
   "file_extension": ".py",
   "mimetype": "text/x-python",
   "name": "python",
   "nbconvert_exporter": "python",
   "pygments_lexer": "ipython3",
   "version": "3.6.10"
  }
 },
 "nbformat": 4,
 "nbformat_minor": 2
}
