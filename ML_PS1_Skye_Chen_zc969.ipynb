{
 "cells": [
  {
   "cell_type": "markdown",
   "metadata": {},
   "source": [
    "# Problem set 1"
   ]
  },
  {
   "cell_type": "code",
   "execution_count": 1,
   "metadata": {},
   "outputs": [],
   "source": [
    "import numpy as np\n",
    "import pandas as pd\n",
    "import matplotlib.pyplot as plt"
   ]
  },
  {
   "cell_type": "markdown",
   "metadata": {},
   "source": [
    "# Data Processing"
   ]
  },
  {
   "cell_type": "markdown",
   "metadata": {},
   "source": [
    "## Read data files"
   ]
  },
  {
   "cell_type": "code",
   "execution_count": 2,
   "metadata": {},
   "outputs": [
    {
     "data": {
      "text/html": [
       "<div>\n",
       "<style scoped>\n",
       "    .dataframe tbody tr th:only-of-type {\n",
       "        vertical-align: middle;\n",
       "    }\n",
       "\n",
       "    .dataframe tbody tr th {\n",
       "        vertical-align: top;\n",
       "    }\n",
       "\n",
       "    .dataframe thead th {\n",
       "        text-align: right;\n",
       "    }\n",
       "</style>\n",
       "<table border=\"1\" class=\"dataframe\">\n",
       "  <thead>\n",
       "    <tr style=\"text-align: right;\">\n",
       "      <th></th>\n",
       "      <th>email</th>\n",
       "      <th>label</th>\n",
       "    </tr>\n",
       "  </thead>\n",
       "  <tbody>\n",
       "    <tr>\n",
       "      <th>0</th>\n",
       "      <td>public announc the new domain name ar final a...</td>\n",
       "      <td>1</td>\n",
       "    </tr>\n",
       "    <tr>\n",
       "      <th>1</th>\n",
       "      <td>have tax problem do you ow the ir monei if yo...</td>\n",
       "      <td>1</td>\n",
       "    </tr>\n",
       "    <tr>\n",
       "      <th>2</th>\n",
       "      <td>r robert harlei write r scuse me for post in ...</td>\n",
       "      <td>0</td>\n",
       "    </tr>\n",
       "    <tr>\n",
       "      <th>3</th>\n",
       "      <td>on wed number oct number brian fahrland wrote...</td>\n",
       "      <td>0</td>\n",
       "    </tr>\n",
       "    <tr>\n",
       "      <th>4</th>\n",
       "      <td>quot ronan waid sure but soft link would do t...</td>\n",
       "      <td>0</td>\n",
       "    </tr>\n",
       "  </tbody>\n",
       "</table>\n",
       "</div>"
      ],
      "text/plain": [
       "                                               email label\n",
       "0   public announc the new domain name ar final a...     1\n",
       "1   have tax problem do you ow the ir monei if yo...     1\n",
       "2   r robert harlei write r scuse me for post in ...     0\n",
       "3   on wed number oct number brian fahrland wrote...     0\n",
       "4   quot ronan waid sure but soft link would do t...     0"
      ]
     },
     "execution_count": 2,
     "metadata": {},
     "output_type": "execute_result"
    }
   ],
   "source": [
    "# # Let's read the spam_train file\n",
    "# df_train_data = pd.read_csv(\"spam_data/spam_train.txt\", header=None)\n",
    "# df_train_data.columns = ['email']\n",
    "# label = [context[0] for context in df_train_data['email']]\n",
    "# df_train_data['label'] = label\n",
    "# df_train_data['email'] = [context[1:] for context in df_train_data['email']]\n",
    "# df_train_data.head()"
   ]
  },
  {
   "cell_type": "code",
   "execution_count": 3,
   "metadata": {},
   "outputs": [
    {
     "data": {
      "text/html": [
       "<div>\n",
       "<style scoped>\n",
       "    .dataframe tbody tr th:only-of-type {\n",
       "        vertical-align: middle;\n",
       "    }\n",
       "\n",
       "    .dataframe tbody tr th {\n",
       "        vertical-align: top;\n",
       "    }\n",
       "\n",
       "    .dataframe thead th {\n",
       "        text-align: right;\n",
       "    }\n",
       "</style>\n",
       "<table border=\"1\" class=\"dataframe\">\n",
       "  <thead>\n",
       "    <tr style=\"text-align: right;\">\n",
       "      <th></th>\n",
       "      <th>email</th>\n",
       "      <th>label</th>\n",
       "    </tr>\n",
       "  </thead>\n",
       "  <tbody>\n",
       "    <tr>\n",
       "      <th>0</th>\n",
       "      <td>thi e mail ad is be sent in full complianc wi...</td>\n",
       "      <td>1</td>\n",
       "    </tr>\n",
       "    <tr>\n",
       "      <th>1</th>\n",
       "      <td>i ve got a test set here that s the last numb...</td>\n",
       "      <td>0</td>\n",
       "    </tr>\n",
       "    <tr>\n",
       "      <th>2</th>\n",
       "      <td>bonjour i m writ a python script in order to ...</td>\n",
       "      <td>0</td>\n",
       "    </tr>\n",
       "    <tr>\n",
       "      <th>3</th>\n",
       "      <td>hello unlimit intern telephon call market if ...</td>\n",
       "      <td>1</td>\n",
       "    </tr>\n",
       "    <tr>\n",
       "      <th>4</th>\n",
       "      <td>it seem that an email consist of a singl line...</td>\n",
       "      <td>0</td>\n",
       "    </tr>\n",
       "  </tbody>\n",
       "</table>\n",
       "</div>"
      ],
      "text/plain": [
       "                                               email label\n",
       "0   thi e mail ad is be sent in full complianc wi...     1\n",
       "1   i ve got a test set here that s the last numb...     0\n",
       "2   bonjour i m writ a python script in order to ...     0\n",
       "3   hello unlimit intern telephon call market if ...     1\n",
       "4   it seem that an email consist of a singl line...     0"
      ]
     },
     "execution_count": 3,
     "metadata": {},
     "output_type": "execute_result"
    }
   ],
   "source": [
    "# # Let's read the spam_train file\n",
    "# df_test_data = pd.read_csv(\"spam_data/spam_test.txt\", header=None)\n",
    "# df_test_data.columns = ['email']\n",
    "# label = [context[0] for context in df_test_data['email']]\n",
    "# df_test_data['label'] = label\n",
    "# df_test_data['email'] = [context[1:] for context in df_test_data['email']]\n",
    "# df_test_data.head()"
   ]
  },
  {
   "cell_type": "markdown",
   "metadata": {},
   "source": [
    "## Split training data"
   ]
  },
  {
   "cell_type": "code",
   "execution_count": 4,
   "metadata": {},
   "outputs": [
    {
     "data": {
      "text/plain": [
       "(1000, 2)"
      ]
     },
     "execution_count": 4,
     "metadata": {},
     "output_type": "execute_result"
    }
   ],
   "source": [
    "# #split train data into validation and train sets\n",
    "# validation = df_train_data[:1000]\n",
    "# validation.shape"
   ]
  },
  {
   "cell_type": "code",
   "execution_count": 5,
   "metadata": {},
   "outputs": [
    {
     "data": {
      "text/plain": [
       "(4000, 2)"
      ]
     },
     "execution_count": 5,
     "metadata": {},
     "output_type": "execute_result"
    }
   ],
   "source": [
    "# train = df_train_data[1000:]\n",
    "# train.shape"
   ]
  },
  {
   "cell_type": "markdown",
   "metadata": {},
   "source": [
    "## Split training data into train.txt and validation.txt"
   ]
  },
  {
   "cell_type": "code",
   "execution_count": 7,
   "metadata": {},
   "outputs": [],
   "source": [
    "f = open('spam_data/spam_train.txt')\n",
    "f_train = open('spam_data/train.txt', 'a')\n",
    "f_validation= open('spam_data/validation.txt', 'a')\n",
    "i = 1\n",
    "for line in f.readlines():\n",
    "    if i<=1000:\n",
    "        f_validation.write(line)\n",
    "        i+=1\n",
    "    else:\n",
    "        f_train.write(line)\n",
    "        i+=1\n",
    "\n",
    "f_validation.close()\n",
    "f_train.close()\n",
    "f.close()"
   ]
  },
  {
   "cell_type": "code",
   "execution_count": 77,
   "metadata": {},
   "outputs": [
    {
     "data": {
      "text/plain": [
       "(4000, 1)"
      ]
     },
     "execution_count": 77,
     "metadata": {},
     "output_type": "execute_result"
    }
   ],
   "source": [
    "#double-check the size of train.txt\n",
    "train_data = pd.read_csv(\"spam_data/train.txt\", header=None)\n",
    "train_data.shape"
   ]
  },
  {
   "cell_type": "markdown",
   "metadata": {},
   "source": [
    "## Transform into feature vectors"
   ]
  },
  {
   "cell_type": "code",
   "execution_count": 78,
   "metadata": {},
   "outputs": [],
   "source": [
    "def words(data,X):\n",
    "    f=open(data,'r')\n",
    "    word_dic = {}\n",
    "    word_list = []\n",
    "    for line in f.readlines():\n",
    "        #remove the label\n",
    "        line_lst = line.split()[1:] \n",
    "        line_lst = list(dict.fromkeys(line_lst))\n",
    "        for word in line_lst:\n",
    "            if word in word_dic.keys():\n",
    "                word_dic[word]+=1\n",
    "            else:\n",
    "                word_dic[word]=1\n",
    "                \n",
    "    for word in word_dic:\n",
    "        if word_dic[word]>=X:\n",
    "            word_list.append(word)\n",
    "    return word_list"
   ]
  },
  {
   "cell_type": "markdown",
   "metadata": {},
   "source": [
    "Create word list with X = 26 using whole training data set(4000 data)"
   ]
  },
  {
   "cell_type": "code",
   "execution_count": 79,
   "metadata": {},
   "outputs": [
    {
     "name": "stdout",
     "output_type": "stream",
     "text": [
      "The word list contains 2677 words.\n"
     ]
    }
   ],
   "source": [
    "word_list = words(\"spam_data/train.txt\",26)\n",
    "print('The word list contains %s words.'% (len(word_list)))"
   ]
  },
  {
   "cell_type": "code",
   "execution_count": 80,
   "metadata": {},
   "outputs": [],
   "source": [
    "def feature_vector(email):\n",
    "    feature_list = []\n",
    "    for word in word_list:\n",
    "        if word in email:\n",
    "            feature_list.append(1)\n",
    "        else:\n",
    "            feature_list.append(0)            \n",
    "    return feature_list"
   ]
  },
  {
   "cell_type": "markdown",
   "metadata": {},
   "source": [
    "# Preceptron Algorithms"
   ]
  },
  {
   "cell_type": "code",
   "execution_count": 88,
   "metadata": {},
   "outputs": [],
   "source": [
    "def preceptron_train(data):\n",
    "    f=open(data,'r')\n",
    "    email_list = [line for line in f]\n",
    "    m = len(word_list)\n",
    "    #set initial value of w to be zero vector\n",
    "    w = np.asarray([0]*m)\n",
    "    cont = True\n",
    "    #k is number of updates\n",
    "    k = 0\n",
    "    iteration = 0\n",
    "    while cont:\n",
    "        corr = 0\n",
    "        for email in email_list:\n",
    "            iteration += 1\n",
    "            feature_list = np.asarray(feature_vector(email))\n",
    "            label = email[0]\n",
    "            #change label from 0 to -1 to implement the algorithm\n",
    "            if label == '0':\n",
    "                label = -1\n",
    "            if int(label)*(np.dot(feature_list,w))>0:\n",
    "                corr+=1\n",
    "            else:\n",
    "                w = w + int(label)*feature_list\n",
    "                k += 1\n",
    "#                 print(\"update\")\n",
    "#         print(\"A round over\")\n",
    "\n",
    "        #stopping criteria\n",
    "        if corr == len(email_list):\n",
    "            cont = False\n",
    "\n",
    "    return (w,k,iteration/len(email_list))"
   ]
  },
  {
   "cell_type": "code",
   "execution_count": null,
   "metadata": {},
   "outputs": [],
   "source": [
    "def preceptron_error(w,data):\n",
    "    f=open(data,'r')\n",
    "    email_list = [line for line in f]\n",
    "    #count the time of uncorrect classification\n",
    "    misclassified = 0\n",
    "    for email in email_list:      \n",
    "        feature_list = np.asarray(feature_vector(email))\n",
    "        label = email[0]\n",
    "        #change label from 0 to -1 to implement the algorithm\n",
    "        if label == '0':\n",
    "            label = -1\n",
    "        if int(label)*(np.dot(feature_list,w))<=0:\n",
    "            misclassified+=1\n",
    "    error_rate = misclassified/len(email_list)\n",
    "    return error_rate"
   ]
  },
  {
   "cell_type": "markdown",
   "metadata": {},
   "source": [
    "# Train classifier"
   ]
  },
  {
   "cell_type": "code",
   "execution_count": 14,
   "metadata": {},
   "outputs": [],
   "source": [
    "# f = open('spam_data/spam_train.txt')\n",
    "# f_small_train = open('spam_data/small_train.txt', 'a')\n",
    "# i = 1\n",
    "# for line in f.readlines():\n",
    "#     if i<=5:\n",
    "#         f_small_train.write(line)\n",
    "#         i+=1\n",
    "#     else:\n",
    "#         break\n",
    "\n",
    "# f_small_train.close()\n",
    "# f.close()"
   ]
  },
  {
   "cell_type": "code",
   "execution_count": 90,
   "metadata": {},
   "outputs": [],
   "source": [
    " (w,k,iteration) = preceptron_train(\"spam_data/train.txt\")"
   ]
  },
  {
   "cell_type": "code",
   "execution_count": 92,
   "metadata": {},
   "outputs": [
    {
     "data": {
      "text/plain": [
       "array([ 19, -10, -23, ...,   0,   2,   0])"
      ]
     },
     "execution_count": 92,
     "metadata": {},
     "output_type": "execute_result"
    }
   ],
   "source": [
    "w"
   ]
  },
  {
   "cell_type": "code",
   "execution_count": 96,
   "metadata": {},
   "outputs": [
    {
     "name": "stdout",
     "output_type": "stream",
     "text": [
      "After trained with trian.txt, the final classification vector is [ 19 -10 -23 ...   0   2   0]\n",
      "Total number of updates(mistakes): 680\n",
      "Total number of passes through the data: 22.0\n"
     ]
    }
   ],
   "source": [
    "print('After trained with trian.txt, the final classification vector is',w)\n",
    "print('Total number of updates(mistakes):',k)\n",
    "print('Total number of passes through the data:',iteration)"
   ]
  },
  {
   "cell_type": "code",
   "execution_count": 94,
   "metadata": {},
   "outputs": [
    {
     "name": "stdout",
     "output_type": "stream",
     "text": [
      "The error rate of trining data is 0.0\n"
     ]
    }
   ],
   "source": [
    "error_rate = preceptron_error(w,\"spam_data/train.txt\")\n",
    "print(\"The error rate of trining data is\",error_rate)"
   ]
  },
  {
   "cell_type": "code",
   "execution_count": 95,
   "metadata": {},
   "outputs": [
    {
     "data": {
      "text/plain": [
       "2677"
      ]
     },
     "execution_count": 95,
     "metadata": {},
     "output_type": "execute_result"
    }
   ],
   "source": [
    "len(w)"
   ]
  },
  {
   "cell_type": "markdown",
   "metadata": {},
   "source": [
    "## Classisify in validation set"
   ]
  },
  {
   "cell_type": "code",
   "execution_count": 97,
   "metadata": {},
   "outputs": [],
   "source": [
    " (w_valid,k_valid,iteration_valid) = preceptron_train(\"spam_data/validation.txt\")"
   ]
  },
  {
   "cell_type": "code",
   "execution_count": 100,
   "metadata": {},
   "outputs": [
    {
     "name": "stdout",
     "output_type": "stream",
     "text": [
      "After trained with trian.txt, the final classification vector is [15  1 -5 ...  0  4  1]\n",
      "Total number of updates(mistakes): 221\n",
      "Total number of passes through the data: 9.0\n"
     ]
    }
   ],
   "source": [
    "print('After trained with trian.txt, the final classification vector is',w_valid)\n",
    "print('Total number of updates(mistakes):',k_valid)\n",
    "print('Total number of passes through the data:',iteration_valid)"
   ]
  },
  {
   "cell_type": "code",
   "execution_count": 101,
   "metadata": {},
   "outputs": [
    {
     "name": "stdout",
     "output_type": "stream",
     "text": [
      "The error rate of validation data is 0.028\n"
     ]
    }
   ],
   "source": [
    "error_rate_valid = preceptron_error(w,\"spam_data/validation.txt\")\n",
    "print(\"The error rate of validation data is\",error_rate_valid)"
   ]
  },
  {
   "cell_type": "markdown",
   "metadata": {},
   "source": [
    "# Understand more about classifier"
   ]
  },
  {
   "cell_type": "code",
   "execution_count": 102,
   "metadata": {},
   "outputs": [
    {
     "name": "stdout",
     "output_type": "stream",
     "text": [
      "Words with the most positive weights:\n",
      " ['remov', 'click', 'free', 'market', 'guarante', 'sight', 'nb', 'we', 'name', 'car', 'deathtospamdeathtospamdeathtospam', 'pleas']\n",
      "Coresponding weights are:\n",
      " [47, 45, 36, 28, 27, 27, 26, 25, 24, 24, 23, 23]\n"
     ]
    }
   ],
   "source": [
    "w_array = np.asarray(w)\n",
    "idx_top_12 = (-w_array).argsort()[:12]\n",
    "weight_top_12 = [w[idx] for idx in list(idx_top_12)]\n",
    "top_12_word = [word_list[idx] for idx in list(idx_top_12)]\n",
    "print('Words with the most positive weights:\\n',top_12_word)\n",
    "print('Coresponding weights are:\\n',weight_top_12)"
   ]
  },
  {
   "cell_type": "code",
   "execution_count": 103,
   "metadata": {},
   "outputs": [
    {
     "name": "stdout",
     "output_type": "stream",
     "text": [
      "Words with the most negative weights:\n",
      " ['wrote', 'author', 'view', 'which', 'the', 'httpaddr', 'not', 'http', 'version', 'but', 'prefer', 'date']\n",
      "Coresponding weights are:\n",
      " [-41, -27, -27, -23, -23, -23, -22, -22, -21, -21, -21, -21]\n"
     ]
    }
   ],
   "source": [
    "w_array = np.asarray(w)\n",
    "idx_least_12 = (w_array).argsort()[:12]\n",
    "weight_least_12 = [w[idx] for idx in list(idx_least_12)]\n",
    "least_12_word = [word_list[idx] for idx in list(idx_least_12)]\n",
    "print('Words with the most negative weights:\\n',least_12_word)\n",
    "print('Coresponding weights are:\\n',weight_least_12)"
   ]
  },
  {
   "cell_type": "markdown",
   "metadata": {},
   "source": [
    "# Using first N row of data"
   ]
  },
  {
   "cell_type": "code",
   "execution_count": 108,
   "metadata": {},
   "outputs": [],
   "source": [
    "def split_train_data(new_file_name, N):\n",
    "    f_train = open('spam_data/train.txt', 'r')\n",
    "    f_N= open(new_file_name, 'a')\n",
    "    i = 1\n",
    "    for line in f_train.readlines():\n",
    "        if i<=N:\n",
    "            f_N.write(line)\n",
    "            i+=1\n",
    "    f_N.close()\n",
    "    f_train.close()"
   ]
  },
  {
   "cell_type": "markdown",
   "metadata": {},
   "source": [
    " ### Create data file with different N "
   ]
  },
  {
   "cell_type": "code",
   "execution_count": 109,
   "metadata": {},
   "outputs": [],
   "source": [
    "N = [200,600,1200,2400,4000]\n",
    "for number in N:\n",
    "    new_file_name ='spam_data/train_%s.txt'% (number)\n",
    "    split_train_data(new_file_name, number)"
   ]
  },
  {
   "cell_type": "code",
   "execution_count": 115,
   "metadata": {},
   "outputs": [
    {
     "name": "stdout",
     "output_type": "stream",
     "text": [
      "100\n",
      "N = 200, validation_error = 0.1, number of iteration = 15, number of updates = 198\n",
      "59\n",
      "N = 600, validation_error = 0.059, number of iteration = 8, number of updates = 192\n",
      "38\n",
      "N = 1200, validation_error = 0.038, number of iteration = 10, number of updates = 286\n",
      "27\n",
      "N = 2400, validation_error = 0.027, number of iteration = 10, number of updates = 415\n",
      "28\n",
      "N = 4000, validation_error = 0.028, number of iteration = 22, number of updates = 680\n"
     ]
    }
   ],
   "source": [
    "N = [200,600,1200,2400,4000]\n",
    "validation_error_list = []\n",
    "num_updates_list = []\n",
    "iteration_list = []\n",
    "for number in N:\n",
    "    file_name ='spam_data/train_%s.txt'% (number)\n",
    "    word_list = words(file_name,26)\n",
    "    (w,k,iteration) = preceptron_train(file_name)\n",
    "    error_rate_valid =preceptron_error(w,\"spam_data/validation.txt\")\n",
    "    \n",
    "    iteration_list.append(iteration)\n",
    "    validation_error_list.append(error_rate_valid)\n",
    "    num_updates_list.append(k)\n",
    "    print('N = %d, validation_error = %s, number of iteration = %d, number of updates = %d'%(number, error_rate_valid,iteration, k ))"
   ]
  },
  {
   "cell_type": "markdown",
   "metadata": {},
   "source": [
    "### Plot"
   ]
  },
  {
   "cell_type": "code",
   "execution_count": 116,
   "metadata": {},
   "outputs": [
    {
     "name": "stderr",
     "output_type": "stream",
     "text": [
      "No handles with labels found to put in legend.\n"
     ]
    },
    {
     "data": {
      "text/plain": [
       "<matplotlib.legend.Legend at 0x11baacba8>"
      ]
     },
     "execution_count": 116,
     "metadata": {},
     "output_type": "execute_result"
    },
    {
     "data": {
      "image/png": "[encoded data removed]",
      "text/plain": [
       "<Figure size 432x288 with 1 Axes>"
      ]
     },
     "metadata": {},
     "output_type": "display_data"
    }
   ],
   "source": [
    "plt.plot(N, iteration_list)\n",
    "plt.xlabel(\"N\")\n",
    "plt.ylabel(\"Number of perceptron iterations\")"
   ]
  },
  {
   "cell_type": "code",
   "execution_count": 119,
   "metadata": {},
   "outputs": [
    {
     "name": "stderr",
     "output_type": "stream",
     "text": [
      "No handles with labels found to put in legend.\n"
     ]
    },
    {
     "data": {
      "text/plain": [
       "<matplotlib.legend.Legend at 0x11ba99588>"
      ]
     },
     "execution_count": 119,
     "metadata": {},
     "output_type": "execute_result"
    },
    {
     "data": {
      "image/png": "[encoded data removed]",
      "text/plain": [
       "<Figure size 432x288 with 1 Axes>"
      ]
     },
     "metadata": {},
     "output_type": "display_data"
    }
   ],
   "source": [
    "plt.plot(N, validation_error_list)\n",
    "plt.xlabel(\"N\")\n",
    "plt.ylabel(\"Validation Error\")"
   ]
  },
  {
   "cell_type": "markdown",
   "metadata": {},
   "source": [
    "# Update Perceptron algorithm"
   ]
  },
  {
   "cell_type": "code",
   "execution_count": 118,
   "metadata": {},
   "outputs": [],
   "source": [
    "def preceptron_train_max(data,max_iter):\n",
    "    f=open(data,'r')\n",
    "    email_list = [line for line in f]\n",
    "    m = len(word_list)\n",
    "    #set initial value of w to be zero vector\n",
    "    w = np.asarray([0]*m)\n",
    "    cont = True\n",
    "    #k is number of updates\n",
    "    k = 0\n",
    "    iteration = 0\n",
    "    while cont:\n",
    "        corr = 0\n",
    "        for email in email_list:\n",
    "            iteration += 1\n",
    "            feature_list = np.asarray(feature_vector(email))       \n",
    "            label = email[0]         \n",
    "            #change label from 0 to -1 to implement the algorithm\n",
    "            if label == '0':\n",
    "                label = -1\n",
    "            if int(label)*(np.dot(feature_list,w))>0:\n",
    "                corr+=1\n",
    "            else:\n",
    "                w = w + int(label)*feature_list\n",
    "                k += 1\n",
    "        #update\n",
    "        if iteration/len(email_list)==max_iter:\n",
    "            cont = False\n",
    "        elif corr == len(email_list):\n",
    "            cont = False\n",
    "\n",
    "    return (w,k,iteration/len(email_list))"
   ]
  },
  {
   "cell_type": "markdown",
   "metadata": {},
   "source": [
    "# Try different configurations! <font size=\"2\">Using all 4000 training data</font>"
   ]
  },
  {
   "cell_type": "markdown",
   "metadata": {},
   "source": [
    "## Fix X = 26, try max_iteration = 10, 11, 12, 13, 14 and plot figures"
   ]
  },
  {
   "cell_type": "code",
   "execution_count": 134,
   "metadata": {},
   "outputs": [
    {
     "name": "stdout",
     "output_type": "stream",
     "text": [
      "The word list contains 2677 words.\n",
      "28\n",
      "Max_iteration = 10, validation_error = 0.028, number of iteration = 10, number of updates = 615\n",
      "28\n",
      "Max_iteration = 11, validation_error = 0.028, number of iteration = 11, number of updates = 623\n",
      "28\n",
      "Max_iteration = 12, validation_error = 0.028, number of iteration = 12, number of updates = 636\n",
      "30\n",
      "Max_iteration = 13, validation_error = 0.03, number of iteration = 13, number of updates = 643\n",
      "29\n",
      "Max_iteration = 14, validation_error = 0.029, number of iteration = 14, number of updates = 647\n"
     ]
    }
   ],
   "source": [
    "max_iteration_list = [10,11,12,13,14]\n",
    "word_list = words(\"spam_data/train.txt\",26)\n",
    "print('The word list contains %s words.'% (len(word_list)))\n",
    "validation_error_list = []\n",
    "num_updates_list = []\n",
    "iteration_list = []\n",
    "for number in max_iteration_list:\n",
    "    (w,k,iteration) = preceptron_train_max(\"spam_data/train.txt\",number)\n",
    "    error_rate_valid =preceptron_error(w,\"spam_data/validation.txt\")\n",
    "    iteration_list.append(iteration)\n",
    "    validation_error_list.append(error_rate_valid)\n",
    "    num_updates_list.append(k)\n",
    "    print('Max_iteration = %d, validation_error = %s, number of iteration = %d, number of updates = %d'%(number, error_rate_valid,iteration, k ))"
   ]
  },
  {
   "cell_type": "code",
   "execution_count": 135,
   "metadata": {},
   "outputs": [
    {
     "data": {
      "text/plain": [
       "Text(0, 0.5, 'Number of perceptron iterations')"
      ]
     },
     "execution_count": 135,
     "metadata": {},
     "output_type": "execute_result"
    },
    {
     "data": {
      "image/png": "[encoded data removed]",
      "text/plain": [
       "<Figure size 432x288 with 1 Axes>"
      ]
     },
     "metadata": {},
     "output_type": "display_data"
    }
   ],
   "source": [
    "plt.plot(max_iteration_list, iteration_list)\n",
    "plt.xlabel(\"Max_iteration\")\n",
    "plt.ylabel(\"Number of perceptron iterations\")"
   ]
  },
  {
   "cell_type": "code",
   "execution_count": 136,
   "metadata": {},
   "outputs": [
    {
     "data": {
      "text/plain": [
       "Text(0, 0.5, 'Validation Error')"
      ]
     },
     "execution_count": 136,
     "metadata": {},
     "output_type": "execute_result"
    },
    {
     "data": {
      "image/png": "[encoded data removed]",
      "text/plain": [
       "<Figure size 432x288 with 1 Axes>"
      ]
     },
     "metadata": {},
     "output_type": "display_data"
    }
   ],
   "source": [
    "plt.plot(max_iteration_list, validation_error_list)\n",
    "plt.xlabel(\"Max_iteration\")\n",
    "plt.ylabel(\"Validation Error\")"
   ]
  },
  {
   "cell_type": "markdown",
   "metadata": {},
   "source": [
    "## Fix max_iteration = 10, try X = 22, 24, 26, 28, 30 and plot figures"
   ]
  },
  {
   "cell_type": "code",
   "execution_count": 138,
   "metadata": {},
   "outputs": [
    {
     "name": "stdout",
     "output_type": "stream",
     "text": [
      "23\n",
      "X = 22, validation_error = 0.023, number of iteration = 10, number of updates = 617\n",
      "23\n",
      "X = 24, validation_error = 0.023, number of iteration = 10, number of updates = 632\n",
      "28\n",
      "X = 26, validation_error = 0.028, number of iteration = 10, number of updates = 615\n",
      "21\n",
      "X = 28, validation_error = 0.021, number of iteration = 10, number of updates = 638\n",
      "41\n",
      "X = 30, validation_error = 0.041, number of iteration = 10, number of updates = 630\n"
     ]
    }
   ],
   "source": [
    "X = [22,24,26,28,30]\n",
    "max_iter = 10\n",
    "validation_error_list = []\n",
    "num_updates_list = []\n",
    "iteration_list = []\n",
    "for number in X:\n",
    "    word_list = words(\"spam_data/train.txt\",number)\n",
    "    (w,k,iteration) = preceptron_train_max(\"spam_data/train.txt\",max_iter)\n",
    "    error_rate_valid =preceptron_error(w,\"spam_data/validation.txt\")\n",
    "    iteration_list.append(iteration)\n",
    "    validation_error_list.append(error_rate_valid)\n",
    "    num_updates_list.append(k)\n",
    "    print('X = %d, validation_error = %s, number of iteration = %d, number of updates = %d'%(number, error_rate_valid,iteration, k ))"
   ]
  },
  {
   "cell_type": "code",
   "execution_count": 141,
   "metadata": {},
   "outputs": [
    {
     "data": {
      "text/plain": [
       "Text(0, 0.5, 'Number of perceptron iterations')"
      ]
     },
     "execution_count": 141,
     "metadata": {},
     "output_type": "execute_result"
    },
    {
     "data": {
      "image/png": "[encoded data removed]",
      "text/plain": [
       "<Figure size 432x288 with 1 Axes>"
      ]
     },
     "metadata": {},
     "output_type": "display_data"
    }
   ],
   "source": [
    "plt.plot(X, iteration_list)\n",
    "plt.xlabel(\"Max_iteration\")\n",
    "plt.ylabel(\"Number of perceptron iterations\")"
   ]
  },
  {
   "cell_type": "code",
   "execution_count": 148,
   "metadata": {},
   "outputs": [
    {
     "data": {
      "text/plain": [
       "[0.023, 0.023, 0.028, 0.021, 0.041]"
      ]
     },
     "execution_count": 148,
     "metadata": {},
     "output_type": "execute_result"
    }
   ],
   "source": [
    "validation_error_list"
   ]
  },
  {
   "cell_type": "code",
   "execution_count": 150,
   "metadata": {},
   "outputs": [],
   "source": [
    "X = [22,24,26,28,30]"
   ]
  },
  {
   "cell_type": "code",
   "execution_count": 152,
   "metadata": {},
   "outputs": [
    {
     "data": {
      "text/plain": [
       "Text(0, 0.5, 'Validation Error')"
      ]
     },
     "execution_count": 152,
     "metadata": {},
     "output_type": "execute_result"
    },
    {
     "data": {
      "image/png": "[encoded data removed]",
      "text/plain": [
       "<Figure size 432x288 with 1 Axes>"
      ]
     },
     "metadata": {},
     "output_type": "display_data"
    }
   ],
   "source": [
    "plt.plot(X, validation_error_list)\n",
    "plt.xlabel(\"X\")\n",
    "plt.ylabel(\"Validation Error\")"
   ]
  },
  {
   "cell_type": "markdown",
   "metadata": {},
   "source": [
    "# Train on full set!! <font size=\"2\">Using all of spam_train.txt using max_iter = 10 and X = 28. Use spam_test to see error rate. </font>"
   ]
  },
  {
   "cell_type": "code",
   "execution_count": 158,
   "metadata": {},
   "outputs": [
    {
     "name": "stdout",
     "output_type": "stream",
     "text": [
      "The word list contains 2906 words.\n"
     ]
    }
   ],
   "source": [
    "X = 28\n",
    "word_list = words(\"spam_data/spam_train.txt\",X)\n",
    "print('The word list contains %s words.'% (len(word_list)))"
   ]
  },
  {
   "cell_type": "code",
   "execution_count": 159,
   "metadata": {},
   "outputs": [
    {
     "name": "stdout",
     "output_type": "stream",
     "text": [
      "24\n",
      "X = 28, validation_error = 0.024, number of iteration = 10, number of updates = 734\n"
     ]
    }
   ],
   "source": [
    "max_iter = 10\n",
    "(w,k,iteration) = preceptron_train_max(\"spam_data/spam_train.txt\",max_iter)\n",
    "error_rate_valid =preceptron_error(w,\"spam_data/spam_test.txt\")\n",
    "print('X = %d, validation_error = %s, number of iteration = %d, number of updates = %d'%(X, error_rate_valid,iteration, k ))"
   ]
  },
  {
   "cell_type": "markdown",
   "metadata": {},
   "source": [
    "# Question1-9 <font size=\"2\">suppose only consider words with X = 1500, how many features are there? Is the data liely separate?</font>"
   ]
  },
  {
   "cell_type": "code",
   "execution_count": 145,
   "metadata": {},
   "outputs": [
    {
     "name": "stdout",
     "output_type": "stream",
     "text": [
      "The word list contains 51 features(words).\n"
     ]
    }
   ],
   "source": [
    "X = 1500\n",
    "word_list = words(\"spam_data/spam_train.txt\",X)\n",
    "print('The word list contains %s features(words).'% (len(word_list)))"
   ]
  },
  {
   "cell_type": "markdown",
   "metadata": {},
   "source": [
    "The data is not linely separate since when trying to run the perception, it will not converge and the mistake in each iteration will not decrease. "
   ]
  },
  {
   "cell_type": "markdown",
   "metadata": {},
   "source": [
    "# Question1-10 <font size=\"2\">Why we need a training set, validation set, and test set?</font>"
   ]
  },
  {
   "cell_type": "markdown",
   "metadata": {},
   "source": [
    "**Answer:** \n",
    "\n",
    "- Training set is to train the classifier and help the classifier learn the parameters(i.e. weights w). \n",
    "\n",
    "- With the validation set, we can adjust the parameters of the model(i.e. max_iteration, X) to find the one yields the best performance. It can help aviod problems like overfitting. \n",
    "\n",
    "- Test set is a set of \"new\" data for the finalized model. Using test set, we can know the true unbiased performance of the classifier."
   ]
  },
  {
   "cell_type": "markdown",
   "metadata": {},
   "source": [
    "# Problem 2: <font size=\"2\">Prove the parameter vector $ w = (w_1,w_2, ..., w_n) $ is perpendicular to the hyperplane $ \\{x | w x + b = 0 \\} $</font>"
   ]
  },
  {
   "cell_type": "markdown",
   "metadata": {},
   "source": [
    "$\\textbf{proof}$: \n",
    "Denote the hyperplane $ \\{x | w x + b = 0 \\} $ as $\\mathcal H $. Take $\\forall$ $x_1,x_2 \\in \\mathcal H$, such that $ w x_a + b = 0 $ and  $w x_2 + b = 0 $. Then by substracting two equations, get \n",
    "$$ w(x_1-x_2) = 0. $$\n",
    "Since by assumption $x_1,x_2 \\in \\mathcal H$, by property of a plane, we know $ x_1-x_2 \\in \\mathcal H $. The dot product between parameter vector $w$ and the vector  $ x_1-x_2 $ is 0, directly gives that $w$ is perpendicular to  $ x_1-x_2 $.\n",
    "\n",
    " w.l.o.g. we can find $ \\forall  x_3,x_4 \\in \\mathcal H $ such that $ x_3-x_4 \\in \\mathcal H $, $ x_3-x_4 \\neq x_1-x_2 $, and  $w$ is perpendicular to  $ x_3-x_4 $.\n",
    " \n",
    " Therefore, we can conclude that  $w$ is perpendicular to $\\mathcal H$. \n"
   ]
  },
  {
   "cell_type": "markdown",
   "metadata": {},
   "source": [
    "# Problem 3: <font size=\"2\">Prove theperception algorithm converge within $ \\frac{R^2}{\\gamma^2}$ mistakes if the data sample are separable.</font>"
   ]
  },
  {
   "cell_type": "markdown",
   "metadata": {},
   "source": [
    "Proof of Claim 2: $w_{t+1}w^\\ast = w_{t}w^\\ast + y_t x_t w^\\ast \\leq w_t w + \\gamma \\leq w_{t-1}w^\\ast + 2\\gamma \\leq ...\\leq M_t \\gamma$. Therefore we get $w_t w^\\ast \\leq M_t \\gamma$ by induction.\n",
    "\n",
    "Proof of Claim 3: From Claim 1 and 2, we have the following inequality:$M_t^2 \\gamma^2 \\leq \\left\\lVert w_t\\right\\rVert \\left\\lVert w_\\ast\\right\\rVert \\leq M_t R^2$, which directly gives: $M_t\\leq \\frac{R^2}{\\gamma^2}$."
   ]
  },
  {
   "cell_type": "markdown",
   "metadata": {},
   "source": [
    "# Problem 4: <font size=\"2\">Guess the number(or range) of $R$ and $\\gamma$.</font>"
   ]
  },
  {
   "cell_type": "markdown",
   "metadata": {},
   "source": [
    "Since by definiation, $R = \\max{|x^i|}$, which can be get through the code. So the first step is to find this number. The parameter used is X = 28, max_iter = 10. "
   ]
  },
  {
   "cell_type": "code",
   "execution_count": 160,
   "metadata": {},
   "outputs": [
    {
     "name": "stdout",
     "output_type": "stream",
     "text": [
      "The word list contains 2906 words.\n"
     ]
    }
   ],
   "source": [
    "X = 28\n",
    "word_list = words(\"spam_data/spam_train.txt\",X)\n",
    "print('The word list contains %s words.'% (len(word_list)))"
   ]
  },
  {
   "cell_type": "markdown",
   "metadata": {},
   "source": [
    "Need to change the function of the algorithm to get R"
   ]
  },
  {
   "cell_type": "code",
   "execution_count": 167,
   "metadata": {},
   "outputs": [],
   "source": [
    "def preceptron_train_max(data,max_iter):\n",
    "    f=open(data,'r')\n",
    "    email_list = [line for line in f]\n",
    "    m = len(word_list)\n",
    "    #set initial value of w to be zero vector\n",
    "    w = np.asarray([0]*m)\n",
    "    cont = True\n",
    "    #k is number of updates\n",
    "    k = 0\n",
    "    iteration = 0\n",
    "    R = 0\n",
    "    while cont:\n",
    "        corr = 0\n",
    "        for email in email_list:\n",
    "            iteration += 1\n",
    "            feature_list = np.asarray(feature_vector(email))       \n",
    "            label = email[0]  \n",
    "            norm = np.linalg.norm(feature_list)#, ord=2, axis=None, keepdims=False)\n",
    "            if norm >R:\n",
    "                R = norm\n",
    "            #change label from 0 to -1 to implement the algorithm\n",
    "            if label == '0':\n",
    "                label = -1\n",
    "            if int(label)*(np.dot(feature_list,w))>0:\n",
    "                corr+=1\n",
    "            else:\n",
    "                w = w + int(label)*feature_list\n",
    "                k += 1\n",
    "        #update\n",
    "        if iteration/len(email_list)==max_iter:\n",
    "            cont = False\n",
    "        elif corr == len(email_list):\n",
    "            cont = False\n",
    "\n",
    "    return (w,k,iteration/len(email_list),R)"
   ]
  },
  {
   "cell_type": "code",
   "execution_count": 168,
   "metadata": {},
   "outputs": [
    {
     "name": "stdout",
     "output_type": "stream",
     "text": [
      "24\n",
      "X = 28, validation_error = 0.024, number of iteration = 10, number of updates = 734, R = 38\n"
     ]
    }
   ],
   "source": [
    "max_iter = 10\n",
    "(w,k,iteration,R) = preceptron_train_max(\"spam_data/spam_train.txt\",max_iter)\n",
    "error_rate_valid =preceptron_error(w,\"spam_data/spam_test.txt\")\n",
    "print('X = %d, validation_error = %s, number of iteration = %d, number of updates = %d, R = %d'%(X, error_rate_valid,iteration, k,R ))"
   ]
  },
  {
   "cell_type": "markdown",
   "metadata": {},
   "source": [
    "Since by definiation, $R = \\max{|x^i|}$, which can be get through the code, R = 38. number of updates : $M_t = 734$. From Question 3, we know: $\\gamma^2 \\leq R^2/M_t$, which indicates that $\\gamma < 1.40$."
   ]
  }
 ],
 "metadata": {
  "kernelspec": {
   "display_name": "Python 3",
   "language": "python",
   "name": "python3"
  },
  "language_info": {
   "codemirror_mode": {
    "name": "ipython",
    "version": 3
   },
   "file_extension": ".py",
   "mimetype": "text/x-python",
   "name": "python",
   "nbconvert_exporter": "python",
   "pygments_lexer": "ipython3",
   "version": "3.6.4"
  }
 },
 "nbformat": 4,
 "nbformat_minor": 2
}
